{
  "nbformat": 4,
  "nbformat_minor": 0,
  "metadata": {
    "colab": {
      "name": "Untitled4.ipynb",
      "provenance": [],
      "authorship_tag": "ABX9TyOhP4xnH7jlGyHZ/6LHBfVC",
      "include_colab_link": true
    },
    "kernelspec": {
      "name": "python3",
      "display_name": "Python 3"
    }
  },
  "cells": [
    {
      "cell_type": "markdown",
      "metadata": {
        "id": "view-in-github",
        "colab_type": "text"
      },
      "source": [
        "<a href=\"https://colab.research.google.com/github/veerakalyan143/AITTA/blob/main/2b.ipynb\" target=\"_parent\"><img src=\"https://colab.research.google.com/assets/colab-badge.svg\" alt=\"Open In Colab\"/></a>"
      ]
    },
    {
      "cell_type": "code",
      "metadata": {
        "id": "ZnAuXgR1qVvL"
      },
      "source": [
        "#importing libraries\r\n",
        "import numpy as np\r\n",
        "import pandas as pd\r\n",
        "import matplotlib.pyplot as plt\r\n",
        "\r\n",
        "from google.colab import files\r\n",
        "uploaded = files.upload()\r\n",
        "\r\n",
        "df = pd.read_csv(\"ex1data1.csv\", index_col=[0])\r\n",
        "df\r\n",
        "\r\n",
        "#getting data from the file and separating it as input(x) and output\r\n",
        "x = df.iloc[:,0]\r\n",
        "#read second column profit as output\r\n",
        "y = df.iloc[:,1]\r\n",
        "#m is number of training examples\r\n",
        "m = len(y)\r\n",
        "#viewing first few rows of data\r\n",
        "df.head()\r\n",
        "\r\n",
        "#plotting the data\r\n",
        "plt.scatter(x,y)\r\n",
        "plt.xlabel('Population of city in 10,000\\'s')\r\n",
        "plt.ylabel('Profit in $10,000\\'s')\r\n",
        "plt.show()\r\n",
        "\r\n",
        "#Increasing the rank of both x and y for operations\r\n",
        "x = x[:,np.newaxis]\r\n",
        "y = y[:,np.newaxis]\r\n",
        "theta = np.zeros([2,1])\r\n",
        "#[theta1]\r\n",
        "#[theta2]\r\n",
        "iterations= 1500\r\n",
        "alpha = 0.01\r\n",
        "ones = np.ones((m,1))\r\n",
        "x = np.hstack((ones,x)) #adding the ones column to x so that x*theta gives the h\r\n",
        "\r\n",
        "\r\n",
        "#computing the cost\r\n",
        "def computeCost(x,y,theta):\r\n",
        "    temp = np.dot(x,theta) - y\r\n",
        "    return np.sum(np.power(temp,2))/(2*m)\r\n",
        "J = computeCost(x,y,theta)\r\n",
        "print(J)\r\n",
        "\r\n",
        "\r\n",
        "#Finding theta1 and theta2 using gradient descent\r\n",
        "def gradientDescent(x,y,theta,alpha,iterations):\r\n",
        "    for _ in range(iterations):\r\n",
        "        temp = np.dot(x,theta)-y\r\n",
        "        temp = np.dot(x.T,temp)\r\n",
        "        theta = theta-(alpha/m)*temp\r\n",
        "    return theta\r\n",
        "theta = gradientDescent(x,y,theta,alpha,iterations)\r\n",
        "print(theta)\r\n",
        "\r\n",
        "\r\n",
        "#compute cost using optimal theta\r\n",
        "J = computeCost(x,y,theta)\r\n",
        "print(J)\r\n",
        "\r\n",
        "#plotting\r\n",
        "plt.scatter(x[:,1],y)\r\n",
        "plt.xlabel('Population of city in 10,000\\'s')\r\n",
        "plt.ylabel('Profit in $10,000\\'s')\r\n",
        "plt.plot(x[:,1],np.dot(x,theta))\r\n",
        "plt.show()\r\n",
        "\r\n",
        "\r\n",
        "\r\n",
        "\r\n"
      ],
      "execution_count": null,
      "outputs": []
    }
  ]
}